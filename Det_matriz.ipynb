{
  "nbformat": 4,
  "nbformat_minor": 0,
  "metadata": {
    "colab": {
      "name": "Det_matriz.ipynb",
      "provenance": [],
      "collapsed_sections": []
    },
    "kernelspec": {
      "name": "python3",
      "display_name": "Python 3"
    }
  },
  "cells": [
    {
      "cell_type": "code",
      "metadata": {
        "id": "JUcBZtofdLSA"
      },
      "source": [
        "import numpy as np\n"
      ],
      "execution_count": 1,
      "outputs": []
    },
    {
      "cell_type": "code",
      "metadata": {
        "id": "MylVtHfVdO3q",
        "outputId": "a779898d-8600-4e01-c05f-f6a1f1dfa3b0",
        "colab": {
          "base_uri": "https://localhost:8080/"
        }
      },
      "source": [
        "a=np.array([(4,2,3),(1,5,0),(7,8,6)])\n",
        "a"
      ],
      "execution_count": 2,
      "outputs": [
        {
          "output_type": "execute_result",
          "data": {
            "text/plain": [
              "array([[4, 2, 3],\n",
              "       [1, 5, 0],\n",
              "       [7, 8, 6]])"
            ]
          },
          "metadata": {
            "tags": []
          },
          "execution_count": 2
        }
      ]
    },
    {
      "cell_type": "code",
      "metadata": {
        "id": "scmjbw8wE9yJ",
        "outputId": "0f1e0c78-17b8-4df6-8cd2-eb99718fd495",
        "colab": {
          "base_uri": "https://localhost:8080/"
        }
      },
      "source": [
        "np.linalg.det(a)\n"
      ],
      "execution_count": 3,
      "outputs": [
        {
          "output_type": "execute_result",
          "data": {
            "text/plain": [
              "26.99999999999999"
            ]
          },
          "metadata": {
            "tags": []
          },
          "execution_count": 3
        }
      ]
    },
    {
      "cell_type": "code",
      "metadata": {
        "id": "JCCvUqL2SNjW",
        "outputId": "e83f41b1-0cf8-43f3-cf20-4e2bb76124a4",
        "colab": {
          "base_uri": "https://localhost:8080/"
        }
      },
      "source": [
        "d1\n",
        "w=[]\n",
        "n_linhas=3\n",
        "n_colunas=3\n",
        "for l in range(n_linhas):\n",
        "  for c in range(n_colunas):\n",
        "    if l<=0:\n",
        "      w.append(a[(l)][(c)])\n",
        "    else:\n",
        "      w[((-1)*(l-c))]=w[((-1)*(l-c))]*a[(l)][(c)]\n",
        "\n",
        "d1=sum(w)\n",
        "w=[]\n",
        "for l in range(n_linhas):\n",
        "  for c in range(n_colunas):\n",
        "    if l<=0:\n",
        "      w.append(a[(l)][(c)])\n",
        "    else:\n",
        "      if (l+c)<n_linhas:\n",
        "        w[(l+c)]=w[(l+c)]*a[(l)][(c)]\n",
        "      else:\n",
        "        w[((l+c)-n_linhas)]= w[((l+c)-n_linhas)]*a[(l)][(c)]\n",
        "\n",
        "\n",
        "d2=sum(w)\n",
        "det=d1-d2\n",
        "print(a)\n",
        "print(\"DET = {}\".format(det))\n"
      ],
      "execution_count": 26,
      "outputs": [
        {
          "output_type": "stream",
          "text": [
            "[[4 2 3]\n",
            " [1 5 0]\n",
            " [7 8 6]]\n",
            "DET = 27\n"
          ],
          "name": "stdout"
        }
      ]
    },
    {
      "cell_type": "code",
      "metadata": {
        "id": "H40Uc3NMUQjt"
      },
      "source": [
        ""
      ],
      "execution_count": null,
      "outputs": []
    }
  ]
}